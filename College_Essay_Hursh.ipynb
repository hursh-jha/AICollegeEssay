{
  "nbformat": 4,
  "nbformat_minor": 0,
  "metadata": {
    "accelerator": "GPU",
    "colab": {
      "name": "College_Essay_Notebook.ipynb",
      "provenance": []
    },
    "kernelspec": {
      "display_name": "Python 3",
      "name": "python3"
    }
  },
  "cells": [
    {
      "cell_type": "code",
      "metadata": {
        "id": "zX4Kg8DUTKWO"
      },
      "source": [
        "#@title Licensed under the Apache License, Version 2.0 (the \"License\");\n",
        "# you may not use this file except in compliance with the License.\n",
        "# You may obtain a copy of the License at\n",
        "#\n",
        "# https://www.apache.org/licenses/LICENSE-2.0\n",
        "#\n",
        "# Unless required by applicable law or agreed to in writing, software\n",
        "# distributed under the License is distributed on an \"AS IS\" BASIS,\n",
        "# WITHOUT WARRANTIES OR CONDITIONS OF ANY KIND, either express or implied.\n",
        "# See the License for the specific language governing permissions and\n",
        "# limitations under the License."
      ],
      "execution_count": null,
      "outputs": []
    },
    {
      "cell_type": "code",
      "metadata": {
        "id": "BOwsuGQQY9OL"
      },
      "source": [
        "import tensorflow as tf\n",
        "\n",
        "from tensorflow.keras.preprocessing.sequence import pad_sequences\n",
        "from tensorflow.keras.layers import Embedding, LSTM, Dense, Bidirectional\n",
        "from tensorflow.keras.preprocessing.text import Tokenizer\n",
        "from tensorflow.keras.models import Sequential\n",
        "from tensorflow.keras.optimizers import Adam\n",
        "import numpy as np "
      ],
      "execution_count": null,
      "outputs": []
    },
    {
      "cell_type": "code",
      "metadata": {
        "id": "pylt5qZYsWPh",
        "outputId": "0261c487-8d47-4295-fcea-671c2b47df68",
        "colab": {
          "base_uri": "https://localhost:8080/",
          "height": 202
        }
      },
      "source": [
        "#!wget --no-check-certificate \\\n",
        "#    https://storage.googleapis.com/laurencemoroney-blog.appspot.com/irish-lyrics-eof.txt \\\n",
        "#    -O /tmp/irish-lyrics-eof.txt\n",
        "\n",
        "#from google.colab import files\n",
        "#uploaded = files.upload()\n",
        "\n",
        "!wget --no-check-certificate \\\n",
        "    https://drive.google.com/file/d/1RdDfuWmiT7OdVmmHhbmO6EavhnRB-4WF/view?usp=sharing \\\n",
        "    -O /tmp/essaynew.txt\n",
        "\n",
        "# Mordern Essay - John Macy\n",
        "#!wget --show-progress --continue -O /content/modernessay.txt https://www.gutenberg.org/files/38280/38280-0.txt"
      ],
      "execution_count": null,
      "outputs": [
        {
          "output_type": "stream",
          "text": [
            "--2020-10-03 05:08:33--  https://drive.google.com/file/d/1RdDfuWmiT7OdVmmHhbmO6EavhnRB-4WF/view?usp=sharing\n",
            "Resolving drive.google.com (drive.google.com)... 74.125.68.102, 74.125.68.138, 74.125.68.113, ...\n",
            "Connecting to drive.google.com (drive.google.com)|74.125.68.102|:443... connected.\n",
            "HTTP request sent, awaiting response... 200 OK\n",
            "Length: unspecified [text/html]\n",
            "Saving to: ‘/tmp/essaynew.txt’\n",
            "\n",
            "/tmp/essaynew.txt       [ <=>                ]  61.84K  --.-KB/s    in 0.1s    \n",
            "\n",
            "2020-10-03 05:08:33 (422 KB/s) - ‘/tmp/essaynew.txt’ saved [63324]\n",
            "\n"
          ],
          "name": "stdout"
        }
      ]
    },
    {
      "cell_type": "code",
      "metadata": {
        "id": "PRnDnCW-Z7qv",
        "outputId": "173ac43b-9094-476d-f7ea-209c3ee0a395",
        "colab": {
          "base_uri": "https://localhost:8080/",
          "height": 34
        }
      },
      "source": [
        "tokenizer = Tokenizer()\n",
        "\n",
        "#data = open('/tmp/irish-lyrics-eof.txt').read()\n",
        "#data = open('/tmp/paradiselost.txt').read()\n",
        "#data = open('/content/modernessay.txt').read()\n",
        "data = open('/content/essay10.txt').read()\n",
        "#print(data)\n",
        "corpus = data.lower().split(\"\\n\")\n",
        "\n",
        "tokenizer.fit_on_texts(corpus)\n",
        "total_words = len(tokenizer.word_index) + 1\n",
        "\n",
        "#print(tokenizer.word_index)\n",
        "print(total_words)\n"
      ],
      "execution_count": null,
      "outputs": [
        {
          "output_type": "stream",
          "text": [
            "2685\n"
          ],
          "name": "stdout"
        }
      ]
    },
    {
      "cell_type": "code",
      "metadata": {
        "id": "soPGVheskaQP"
      },
      "source": [
        "input_sequences = []\n",
        "for line in corpus:\n",
        "\ttoken_list = tokenizer.texts_to_sequences([line])[0]\n",
        "\tfor i in range(1, len(token_list)):\n",
        "\t\tn_gram_sequence = token_list[:i+1]\n",
        "\t\tinput_sequences.append(n_gram_sequence)\n",
        "\n",
        "# pad sequences \n",
        "max_sequence_len = max([len(x) for x in input_sequences])\n",
        "input_sequences = np.array(pad_sequences(input_sequences, maxlen=max_sequence_len, padding='pre'))\n",
        "\n",
        "# create predictors and label\n",
        "xs, labels = input_sequences[:,:-1],input_sequences[:,-1]\n",
        "\n",
        "ys = tf.keras.utils.to_categorical(labels, num_classes=total_words)"
      ],
      "execution_count": null,
      "outputs": []
    },
    {
      "cell_type": "code",
      "metadata": {
        "id": "pJtwVB2NbOAP",
        "outputId": "12e12574-c002-4376-f10f-db8f17d04a45",
        "colab": {
          "base_uri": "https://localhost:8080/",
          "height": 34
        }
      },
      "source": [
        "print(tokenizer.word_index['in'])\n"
      ],
      "execution_count": null,
      "outputs": [
        {
          "output_type": "stream",
          "text": [
            "8\n"
          ],
          "name": "stdout"
        }
      ]
    },
    {
      "cell_type": "code",
      "metadata": {
        "id": "49Cv68JOakwv"
      },
      "source": [
        "#print(xs[6])"
      ],
      "execution_count": null,
      "outputs": []
    },
    {
      "cell_type": "code",
      "metadata": {
        "id": "iY-jwvfgbEF8"
      },
      "source": [
        "#print(ys[6])"
      ],
      "execution_count": null,
      "outputs": []
    },
    {
      "cell_type": "code",
      "metadata": {
        "id": "wtzlUMYadhKt"
      },
      "source": [
        "#print(xs[5])\n",
        "#print(ys[5])"
      ],
      "execution_count": null,
      "outputs": []
    },
    {
      "cell_type": "code",
      "metadata": {
        "id": "H4myRpB1c4Gg"
      },
      "source": [
        "#print(tokenizer.word_index)"
      ],
      "execution_count": null,
      "outputs": []
    },
    {
      "cell_type": "code",
      "metadata": {
        "id": "w9vH8Y59ajYL",
        "outputId": "3c85e6fe-4f15-4c65-f9f3-108595b91831",
        "colab": {
          "base_uri": "https://localhost:8080/",
          "height": 1000
        }
      },
      "source": [
        "model = Sequential()\n",
        "model.add(Embedding(total_words, 100, input_length=max_sequence_len-1))\n",
        "model.add(Bidirectional(LSTM(150)))\n",
        "model.add(Dense(total_words, activation='softmax'))\n",
        "adam = Adam(lr=0.01)\n",
        "model.compile(loss='categorical_crossentropy', optimizer=adam, metrics=['accuracy'])\n",
        "#earlystop = EarlyStopping(monitor='val_loss', min_delta=0, patience=5, verbose=0, mode='auto')\n",
        "history = model.fit(xs, ys, epochs=30, verbose=1)\n",
        "#print model.summary()\n",
        "print(model)\n"
      ],
      "execution_count": null,
      "outputs": [
        {
          "output_type": "stream",
          "text": [
            "Epoch 1/30\n",
            "340/340 [==============================] - 21s 61ms/step - loss: 6.6065 - accuracy: 0.0620\n",
            "Epoch 2/30\n",
            "340/340 [==============================] - 21s 61ms/step - loss: 5.6621 - accuracy: 0.1157\n",
            "Epoch 3/30\n",
            "340/340 [==============================] - 21s 61ms/step - loss: 4.6865 - accuracy: 0.1696\n",
            "Epoch 4/30\n",
            "340/340 [==============================] - 21s 60ms/step - loss: 3.6762 - accuracy: 0.2625\n",
            "Epoch 5/30\n",
            "340/340 [==============================] - 21s 60ms/step - loss: 2.8181 - accuracy: 0.3784\n",
            "Epoch 6/30\n",
            "340/340 [==============================] - 21s 60ms/step - loss: 2.0912 - accuracy: 0.5058\n",
            "Epoch 7/30\n",
            "340/340 [==============================] - 21s 60ms/step - loss: 1.6297 - accuracy: 0.5911\n",
            "Epoch 8/30\n",
            "340/340 [==============================] - 20s 60ms/step - loss: 1.2996 - accuracy: 0.6658\n",
            "Epoch 9/30\n",
            "340/340 [==============================] - 20s 60ms/step - loss: 1.0657 - accuracy: 0.7217\n",
            "Epoch 10/30\n",
            "340/340 [==============================] - 20s 60ms/step - loss: 0.9289 - accuracy: 0.7514\n",
            "Epoch 11/30\n",
            "340/340 [==============================] - 20s 60ms/step - loss: 0.8416 - accuracy: 0.7698\n",
            "Epoch 12/30\n",
            "340/340 [==============================] - 21s 60ms/step - loss: 0.8258 - accuracy: 0.7693\n",
            "Epoch 13/30\n",
            "340/340 [==============================] - 20s 60ms/step - loss: 0.8827 - accuracy: 0.7555\n",
            "Epoch 14/30\n",
            "340/340 [==============================] - 21s 60ms/step - loss: 0.8792 - accuracy: 0.7507\n",
            "Epoch 15/30\n",
            "340/340 [==============================] - 20s 60ms/step - loss: 0.9051 - accuracy: 0.7394\n",
            "Epoch 16/30\n",
            "340/340 [==============================] - 20s 60ms/step - loss: 0.8444 - accuracy: 0.7629\n",
            "Epoch 17/30\n",
            "340/340 [==============================] - 20s 60ms/step - loss: 0.7242 - accuracy: 0.7917\n",
            "Epoch 18/30\n",
            "340/340 [==============================] - 21s 60ms/step - loss: 0.5555 - accuracy: 0.8397\n",
            "Epoch 19/30\n",
            "340/340 [==============================] - 20s 60ms/step - loss: 0.5458 - accuracy: 0.8446\n",
            "Epoch 20/30\n",
            "340/340 [==============================] - 20s 60ms/step - loss: 0.5436 - accuracy: 0.8410\n",
            "Epoch 21/30\n",
            "340/340 [==============================] - 20s 60ms/step - loss: 0.6677 - accuracy: 0.8087\n",
            "Epoch 22/30\n",
            "340/340 [==============================] - 20s 60ms/step - loss: 0.7237 - accuracy: 0.7914\n",
            "Epoch 23/30\n",
            "340/340 [==============================] - 20s 60ms/step - loss: 0.7388 - accuracy: 0.7864\n",
            "Epoch 24/30\n",
            "340/340 [==============================] - 20s 60ms/step - loss: 0.7443 - accuracy: 0.7937\n",
            "Epoch 25/30\n",
            "340/340 [==============================] - 20s 60ms/step - loss: 0.6824 - accuracy: 0.8013\n",
            "Epoch 26/30\n",
            "340/340 [==============================] - 21s 60ms/step - loss: 0.6320 - accuracy: 0.8134\n",
            "Epoch 27/30\n",
            "340/340 [==============================] - 21s 60ms/step - loss: 0.6143 - accuracy: 0.8190\n",
            "Epoch 28/30\n",
            "340/340 [==============================] - 21s 60ms/step - loss: 0.5878 - accuracy: 0.8284\n",
            "Epoch 29/30\n",
            "340/340 [==============================] - 20s 60ms/step - loss: 0.5585 - accuracy: 0.8315\n",
            "Epoch 30/30\n",
            "340/340 [==============================] - 21s 60ms/step - loss: 0.6312 - accuracy: 0.8149\n",
            "<tensorflow.python.keras.engine.sequential.Sequential object at 0x7f73bee49630>\n"
          ],
          "name": "stdout"
        }
      ]
    },
    {
      "cell_type": "code",
      "metadata": {
        "id": "3YXGelKThoTT"
      },
      "source": [
        "import matplotlib.pyplot as plt\n",
        "\n",
        "\n",
        "def plot_graphs(history, string):\n",
        "  plt.plot(history.history[string])\n",
        "  plt.xlabel(\"Epochs\")\n",
        "  plt.ylabel(string)\n",
        "  plt.show()"
      ],
      "execution_count": null,
      "outputs": []
    },
    {
      "cell_type": "code",
      "metadata": {
        "id": "poeprYK8h-c7",
        "outputId": "3d2cc07a-faf3-411e-ac82-2ab624849a2d",
        "colab": {
          "base_uri": "https://localhost:8080/",
          "height": 279
        }
      },
      "source": [
        "plot_graphs(history, 'accuracy')\n"
      ],
      "execution_count": null,
      "outputs": [
        {
          "output_type": "display_data",
          "data": {
            "image/png": "[encoded data removed]",
            "text/plain": [
              "<Figure size 432x288 with 1 Axes>"
            ]
          },
          "metadata": {
            "tags": [],
            "needs_background": "light"
          }
        }
      ]
    },
    {
      "cell_type": "code",
      "metadata": {
        "id": "6Vc6PHgxa6Hm",
        "outputId": "a3cbe4ac-fc77-4358-9dbe-e7fbf056a74a",
        "colab": {
          "base_uri": "https://localhost:8080/",
          "height": 70
        }
      },
      "source": [
        "#seed_text = \"Beautiful blue sky\"\n",
        "#seed_text = \"Life is a challange\"\n",
        "#seed_text = \"Curiosity is awesome\"\n",
        "#seed_text = \"I like computer science\"\n",
        "seed_text = \"Life is fun\"\n",
        "\n",
        "next_words = 42\n",
        "  \n",
        "for _ in range(next_words):\n",
        "\ttoken_list = tokenizer.texts_to_sequences([seed_text])[0]\n",
        "\ttoken_list = pad_sequences([token_list], maxlen=max_sequence_len-1, padding='pre')\n",
        "\tpredicted = model.predict_classes(token_list, verbose=0)\n",
        "\toutput_word = \"\"\n",
        "\tfor word, index in tokenizer.word_index.items():\n",
        "\t\tif index == predicted:\n",
        "\t\t\toutput_word = word\n",
        "\t\t\tbreak\n",
        "\tseed_text += \" \" + output_word\n",
        "print(\"---------------------\")\t\n",
        "print(seed_text)"
      ],
      "execution_count": null,
      "outputs": [
        {
          "output_type": "stream",
          "text": [
            "---------------------\n",
            "Life is fun but i want to complain to myself how she’s not bothered to solve my issues without thinking how she’s at least giving time to listen to what i have to find validity in everyone’s viewpoints to at least listen to their reasoning\n"
          ],
          "name": "stdout"
        }
      ]
    }
  ]
}