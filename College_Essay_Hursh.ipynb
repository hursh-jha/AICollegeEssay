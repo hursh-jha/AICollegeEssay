{
  "nbformat": 4,
  "nbformat_minor": 0,
  "metadata": {
    "accelerator": "GPU",
    "colab": {
      "name": "College_Essay_Notebook.ipynb",
      "provenance": [],
      "include_colab_link": true
    },
    "kernelspec": {
      "display_name": "Python 3",
      "name": "python3"
    }
  },
  "cells": [
    {
      "cell_type": "markdown",
      "metadata": {
        "id": "view-in-github",
        "colab_type": "text"
      },
      "source": [
        "<a href=\"https://colab.research.google.com/github/pikachu13307/AICollegeEssay/blob/master/College_Essay_Hursh.ipynb\" target=\"_parent\"><img src=\"https://colab.research.google.com/assets/colab-badge.svg\" alt=\"Open In Colab\"/></a>"
      ]
    },
    {
      "cell_type": "code",
      "metadata": {
        "id": "zX4Kg8DUTKWO"
      },
      "source": [
        "#@title Licensed under the Apache License, Version 2.0 (the \"License\");\n",
        "# you may not use this file except in compliance with the License.\n",
        "# You may obtain a copy of the License at\n",
        "#\n",
        "# https://www.apache.org/licenses/LICENSE-2.0\n",
        "#\n",
        "# Unless required by applicable law or agreed to in writing, software\n",
        "# distributed under the License is distributed on an \"AS IS\" BASIS,\n",
        "# WITHOUT WARRANTIES OR CONDITIONS OF ANY KIND, either express or implied.\n",
        "# See the License for the specific language governing permissions and\n",
        "# limitations under the License."
      ],
      "execution_count": 22,
      "outputs": []
    },
    {
      "cell_type": "code",
      "metadata": {
        "id": "BOwsuGQQY9OL"
      },
      "source": [
        "import tensorflow as tf\n",
        "\n",
        "from tensorflow.keras.preprocessing.sequence import pad_sequences\n",
        "from tensorflow.keras.layers import Embedding, LSTM, Dense, Bidirectional\n",
        "from tensorflow.keras.preprocessing.text import Tokenizer\n",
        "from tensorflow.keras.models import Sequential\n",
        "from tensorflow.keras.optimizers import Adam\n",
        "import numpy as np "
      ],
      "execution_count": 23,
      "outputs": []
    },
    {
      "cell_type": "code",
      "metadata": {
        "id": "pylt5qZYsWPh",
        "outputId": "912e2c60-21a4-4384-a7b7-e2a281567126",
        "colab": {
          "base_uri": "https://localhost:8080/",
          "height": 202
        }
      },
      "source": [
        "#!wget --no-check-certificate \\\n",
        "#    https://storage.googleapis.com/laurencemoroney-blog.appspot.com/irish-lyrics-eof.txt \\\n",
        "#    -O /tmp/irish-lyrics-eof.txt\n",
        "\n",
        "#from google.colab import files\n",
        "#uploaded = files.upload()\n",
        "\n",
        "!wget --no-check-certificate \\\n",
        "    https://raw.githubusercontent.com/pikachu13307/AICollegeEssay/master/essay10.txt \\\n",
        "    -O /tmp/essaynew.txt\n",
        "\n",
        "# Mordern Essay - John Macy\n",
        "#!wget --show-progress --continue -O /content/modernessay.txt https://www.gutenberg.org/files/38280/38280-0.txt"
      ],
      "execution_count": 24,
      "outputs": [
        {
          "output_type": "stream",
          "text": [
            "--2020-10-03 05:58:34--  https://raw.githubusercontent.com/pikachu13307/AICollegeEssay/master/essay10.txt\n",
            "Resolving raw.githubusercontent.com (raw.githubusercontent.com)... 151.101.0.133, 151.101.64.133, 151.101.128.133, ...\n",
            "Connecting to raw.githubusercontent.com (raw.githubusercontent.com)|151.101.0.133|:443... connected.\n",
            "HTTP request sent, awaiting response... 200 OK\n",
            "Length: 63220 (62K) [text/plain]\n",
            "Saving to: ‘/tmp/essaynew.txt’\n",
            "\n",
            "\r/tmp/essaynew.txt     0%[                    ]       0  --.-KB/s               \r/tmp/essaynew.txt   100%[===================>]  61.74K  --.-KB/s    in 0.008s  \n",
            "\n",
            "2020-10-03 05:58:34 (7.86 MB/s) - ‘/tmp/essaynew.txt’ saved [63220/63220]\n",
            "\n"
          ],
          "name": "stdout"
        }
      ]
    },
    {
      "cell_type": "code",
      "metadata": {
        "id": "PRnDnCW-Z7qv",
        "outputId": "1c8c936d-7714-466c-984a-5631a7c73711",
        "colab": {
          "base_uri": "https://localhost:8080/",
          "height": 34
        }
      },
      "source": [
        "tokenizer = Tokenizer()\n",
        "\n",
        "#data = open('/tmp/irish-lyrics-eof.txt').read()\n",
        "#data = open('/tmp/paradiselost.txt').read()\n",
        "#data = open('/content/modernessay.txt').read()\n",
        "data = open('/tmp/essaynew.txt').read()\n",
        "#print(data)\n",
        "corpus = data.lower().split(\"\\n\")\n",
        "\n",
        "tokenizer.fit_on_texts(corpus)\n",
        "total_words = len(tokenizer.word_index) + 1\n",
        "\n",
        "#print(tokenizer.word_index)\n",
        "print(total_words)\n"
      ],
      "execution_count": 25,
      "outputs": [
        {
          "output_type": "stream",
          "text": [
            "2685\n"
          ],
          "name": "stdout"
        }
      ]
    },
    {
      "cell_type": "code",
      "metadata": {
        "id": "soPGVheskaQP"
      },
      "source": [
        "input_sequences = []\n",
        "for line in corpus:\n",
        "\ttoken_list = tokenizer.texts_to_sequences([line])[0]\n",
        "\tfor i in range(1, len(token_list)):\n",
        "\t\tn_gram_sequence = token_list[:i+1]\n",
        "\t\tinput_sequences.append(n_gram_sequence)\n",
        "\n",
        "# pad sequences \n",
        "max_sequence_len = max([len(x) for x in input_sequences])\n",
        "input_sequences = np.array(pad_sequences(input_sequences, maxlen=max_sequence_len, padding='pre'))\n",
        "\n",
        "# create predictors and label\n",
        "xs, labels = input_sequences[:,:-1],input_sequences[:,-1]\n",
        "\n",
        "ys = tf.keras.utils.to_categorical(labels, num_classes=total_words)"
      ],
      "execution_count": 26,
      "outputs": []
    },
    {
      "cell_type": "code",
      "metadata": {
        "id": "pJtwVB2NbOAP",
        "outputId": "1d4bc131-c32f-4a69-bbfd-cf059529ddf3",
        "colab": {
          "base_uri": "https://localhost:8080/",
          "height": 34
        }
      },
      "source": [
        "print(tokenizer.word_index['in'])\n"
      ],
      "execution_count": 27,
      "outputs": [
        {
          "output_type": "stream",
          "text": [
            "8\n"
          ],
          "name": "stdout"
        }
      ]
    },
    {
      "cell_type": "code",
      "metadata": {
        "id": "49Cv68JOakwv"
      },
      "source": [
        "#print(xs[6])"
      ],
      "execution_count": 28,
      "outputs": []
    },
    {
      "cell_type": "code",
      "metadata": {
        "id": "iY-jwvfgbEF8"
      },
      "source": [
        "#print(ys[6])"
      ],
      "execution_count": 29,
      "outputs": []
    },
    {
      "cell_type": "code",
      "metadata": {
        "id": "wtzlUMYadhKt"
      },
      "source": [
        "#print(xs[5])\n",
        "#print(ys[5])"
      ],
      "execution_count": 30,
      "outputs": []
    },
    {
      "cell_type": "code",
      "metadata": {
        "id": "H4myRpB1c4Gg"
      },
      "source": [
        "#print(tokenizer.word_index)"
      ],
      "execution_count": 31,
      "outputs": []
    },
    {
      "cell_type": "code",
      "metadata": {
        "id": "w9vH8Y59ajYL",
        "outputId": "5c03d80e-bbea-471f-ee49-fe9aa7e90f4d",
        "colab": {
          "base_uri": "https://localhost:8080/",
          "height": 1000
        }
      },
      "source": [
        "model = Sequential()\n",
        "model.add(Embedding(total_words, 100, input_length=max_sequence_len-1))\n",
        "model.add(Bidirectional(LSTM(150)))\n",
        "model.add(Dense(total_words, activation='softmax'))\n",
        "adam = Adam(lr=0.01)\n",
        "model.compile(loss='categorical_crossentropy', optimizer=adam, metrics=['accuracy'])\n",
        "#earlystop = EarlyStopping(monitor='val_loss', min_delta=0, patience=5, verbose=0, mode='auto')\n",
        "history = model.fit(xs, ys, epochs=30, verbose=1)\n",
        "#print model.summary()\n",
        "print(model)\n"
      ],
      "execution_count": 32,
      "outputs": [
        {
          "output_type": "stream",
          "text": [
            "Epoch 1/30\n",
            "340/340 [==============================] - 19s 54ms/step - loss: 6.7754 - accuracy: 0.0518\n",
            "Epoch 2/30\n",
            "340/340 [==============================] - 18s 54ms/step - loss: 5.8237 - accuracy: 0.1011\n",
            "Epoch 3/30\n",
            "340/340 [==============================] - 18s 54ms/step - loss: 4.8517 - accuracy: 0.1672\n",
            "Epoch 4/30\n",
            "340/340 [==============================] - 18s 54ms/step - loss: 3.8116 - accuracy: 0.2529\n",
            "Epoch 5/30\n",
            "340/340 [==============================] - 18s 54ms/step - loss: 2.8026 - accuracy: 0.3796\n",
            "Epoch 6/30\n",
            "340/340 [==============================] - 18s 54ms/step - loss: 2.0305 - accuracy: 0.5062\n",
            "Epoch 7/30\n",
            "340/340 [==============================] - 18s 54ms/step - loss: 1.5238 - accuracy: 0.6222\n",
            "Epoch 8/30\n",
            "340/340 [==============================] - 18s 54ms/step - loss: 1.1922 - accuracy: 0.6972\n",
            "Epoch 9/30\n",
            "340/340 [==============================] - 18s 54ms/step - loss: 0.9589 - accuracy: 0.7517\n",
            "Epoch 10/30\n",
            "340/340 [==============================] - 18s 54ms/step - loss: 0.8254 - accuracy: 0.7762\n",
            "Epoch 11/30\n",
            "340/340 [==============================] - 18s 54ms/step - loss: 0.7740 - accuracy: 0.7876\n",
            "Epoch 12/30\n",
            "340/340 [==============================] - 18s 54ms/step - loss: 0.7032 - accuracy: 0.8077\n",
            "Epoch 13/30\n",
            "340/340 [==============================] - 18s 54ms/step - loss: 0.6733 - accuracy: 0.8123\n",
            "Epoch 14/30\n",
            "340/340 [==============================] - 18s 54ms/step - loss: 0.7483 - accuracy: 0.7877\n",
            "Epoch 15/30\n",
            "340/340 [==============================] - 18s 54ms/step - loss: 0.7847 - accuracy: 0.7813\n",
            "Epoch 16/30\n",
            "340/340 [==============================] - 18s 54ms/step - loss: 0.7897 - accuracy: 0.7724\n",
            "Epoch 17/30\n",
            "340/340 [==============================] - 18s 54ms/step - loss: 0.6753 - accuracy: 0.8083\n",
            "Epoch 18/30\n",
            "340/340 [==============================] - 18s 53ms/step - loss: 0.6233 - accuracy: 0.8220\n",
            "Epoch 19/30\n",
            "340/340 [==============================] - 18s 53ms/step - loss: 0.5963 - accuracy: 0.8239\n",
            "Epoch 20/30\n",
            "340/340 [==============================] - 18s 53ms/step - loss: 0.5832 - accuracy: 0.8308\n",
            "Epoch 21/30\n",
            "340/340 [==============================] - 18s 53ms/step - loss: 0.5768 - accuracy: 0.8351\n",
            "Epoch 22/30\n",
            "340/340 [==============================] - 18s 54ms/step - loss: 0.6286 - accuracy: 0.8166\n",
            "Epoch 23/30\n",
            "340/340 [==============================] - 18s 53ms/step - loss: 0.6563 - accuracy: 0.8126\n",
            "Epoch 24/30\n",
            "340/340 [==============================] - 18s 54ms/step - loss: 0.6437 - accuracy: 0.8142\n",
            "Epoch 25/30\n",
            "340/340 [==============================] - 18s 53ms/step - loss: 0.6842 - accuracy: 0.8092\n",
            "Epoch 26/30\n",
            "340/340 [==============================] - 18s 53ms/step - loss: 0.7257 - accuracy: 0.7911\n",
            "Epoch 27/30\n",
            "340/340 [==============================] - 18s 53ms/step - loss: 0.6052 - accuracy: 0.8206\n",
            "Epoch 28/30\n",
            "340/340 [==============================] - 18s 53ms/step - loss: 0.4900 - accuracy: 0.8527\n",
            "Epoch 29/30\n",
            "340/340 [==============================] - 18s 53ms/step - loss: 0.3984 - accuracy: 0.8782\n",
            "Epoch 30/30\n",
            "340/340 [==============================] - 18s 53ms/step - loss: 0.4471 - accuracy: 0.8656\n",
            "<tensorflow.python.keras.engine.sequential.Sequential object at 0x7f16647a8978>\n"
          ],
          "name": "stdout"
        }
      ]
    },
    {
      "cell_type": "code",
      "metadata": {
        "id": "3YXGelKThoTT"
      },
      "source": [
        "import matplotlib.pyplot as plt\n",
        "\n",
        "\n",
        "def plot_graphs(history, string):\n",
        "  plt.plot(history.history[string])\n",
        "  plt.xlabel(\"Epochs\")\n",
        "  plt.ylabel(string)\n",
        "  plt.show()"
      ],
      "execution_count": 33,
      "outputs": []
    },
    {
      "cell_type": "code",
      "metadata": {
        "id": "poeprYK8h-c7",
        "outputId": "e4a0a8ae-c47e-4276-aff5-857a933123d8",
        "colab": {
          "base_uri": "https://localhost:8080/",
          "height": 279
        }
      },
      "source": [
        "plot_graphs(history, 'accuracy')\n"
      ],
      "execution_count": 34,
      "outputs": [
        {
          "output_type": "display_data",
          "data": {
            "image/png": "[encoded data removed]",
            "text/plain": [
              "<Figure size 432x288 with 1 Axes>"
            ]
          },
          "metadata": {
            "tags": [],
            "needs_background": "light"
          }
        }
      ]
    },
    {
      "cell_type": "code",
      "metadata": {
        "id": "6Vc6PHgxa6Hm",
        "outputId": "0fa16567-cad3-4b85-b647-b9a5edfeb015",
        "colab": {
          "base_uri": "https://localhost:8080/",
          "height": 121
        }
      },
      "source": [
        "#seed_text = \"Beautiful blue sky\"\n",
        "#seed_text = \"Life is a challange\"\n",
        "#seed_text = \"Curiosity is awesome\"\n",
        "#seed_text = \"I like computer science\"\n",
        "seed_text = \"Life is fun\"\n",
        "\n",
        "next_words = 42\n",
        "  \n",
        "for _ in range(next_words):\n",
        "\ttoken_list = tokenizer.texts_to_sequences([seed_text])[0]\n",
        "\ttoken_list = pad_sequences([token_list], maxlen=max_sequence_len-1, padding='pre')\n",
        "\tpredicted = model.predict_classes(token_list, verbose=0)\n",
        "\toutput_word = \"\"\n",
        "\tfor word, index in tokenizer.word_index.items():\n",
        "\t\tif index == predicted:\n",
        "\t\t\toutput_word = word\n",
        "\t\t\tbreak\n",
        "\tseed_text += \" \" + output_word\n",
        "print(\"---------------------\")\t\n",
        "print(seed_text)"
      ],
      "execution_count": 35,
      "outputs": [
        {
          "output_type": "stream",
          "text": [
            "WARNING:tensorflow:From <ipython-input-35-feec2862bca6>:12: Sequential.predict_classes (from tensorflow.python.keras.engine.sequential) is deprecated and will be removed after 2021-01-01.\n",
            "Instructions for updating:\n",
            "Please use instead:* `np.argmax(model.predict(x), axis=-1)`,   if your model does multi-class classification   (e.g. if it uses a `softmax` last-layer activation).* `(model.predict(x) > 0.5).astype(\"int32\")`,   if your model does binary classification   (e.g. if it uses a `sigmoid` last-layer activation).\n",
            "---------------------\n",
            "Life is fun with as i want to be promising it just like the media has been distorting the image of being there a perceptual experience of pleasure as well as satisfaction an ideal a photojournalist i lived for the action shots the excited gestures\n"
          ],
          "name": "stdout"
        }
      ]
    }
  ]
}